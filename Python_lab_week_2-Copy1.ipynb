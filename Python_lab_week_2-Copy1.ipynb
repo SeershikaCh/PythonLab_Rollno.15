{
 "cells": [
  {
   "cell_type": "code",
   "execution_count": 1,
   "id": "84772524",
   "metadata": {},
   "outputs": [
    {
     "name": "stdout",
     "output_type": "stream",
     "text": [
      "5 \n",
      "4 4 \n",
      "3 3 3 \n",
      "2 2 2 2 \n",
      "1 1 1 1 1 \n"
     ]
    }
   ],
   "source": [
    "n = 5\n",
    "for i in range(1, n + 1):\n",
    "    print((str(n - i + 1) + ' ') * i)"
   ]
  },
  {
   "cell_type": "code",
   "execution_count": 2,
   "id": "63ad7f5e",
   "metadata": {},
   "outputs": [
    {
     "name": "stdout",
     "output_type": "stream",
     "text": [
      "Enter a character: d\n",
      "The input is a lowercase character.\n"
     ]
    }
   ],
   "source": [
    "def check_input_type(input_char):\n",
    "    \"\"\"\n",
    "    Check whether the given input is a digit, lowercase character, or uppercase character.\n",
    "\n",
    "    Parameters:\n",
    "    input_char (str): The input character to check.\n",
    "\n",
    "    Returns:\n",
    "    str: A description of the type of the input character.\n",
    "    \"\"\"\n",
    "    if input_char.isdigit():\n",
    "        return \"The input is a digit.\"\n",
    "    elif input_char.islower():\n",
    "        return \"The input is a lowercase character.\"\n",
    "    elif input_char.isupper():\n",
    "        return \"The input is an uppercase character.\"\n",
    "    else:\n",
    "        return \"The input is neither a digit, lowercase, nor uppercase character.\"\n",
    "user_input = input(\"Enter a character: \")\n",
    "if len(user_input) != 1:\n",
    "    print(\"Please enter exactly one character.\")\n",
    "else:\n",
    "    result = check_input_type(user_input)\n",
    "    print(result)\n"
   ]
  },
  {
   "cell_type": "code",
   "execution_count": 3,
   "id": "44436d89",
   "metadata": {},
   "outputs": [
    {
     "name": "stdout",
     "output_type": "stream",
     "text": [
      "Enter a character: s\n",
      "The input is a lowercase character.\n"
     ]
    }
   ],
   "source": [
    "def check_input_type(input_char):\n",
    "    \"\"\"\n",
    "    Check whether the given input is a digit, lowercase character, or uppercase character.\n",
    "\n",
    "    Parameters:\n",
    "    input_char (str): The input character to check.\n",
    "\n",
    "    Returns:\n",
    "    str: A description of the type of the input character.\n",
    "    \"\"\"\n",
    "    if input_char.isdigit():\n",
    "        return \"The input is a digit.\"\n",
    "    elif input_char.islower():\n",
    "        return \"The input is a lowercase character.\"\n",
    "    elif input_char.isupper():\n",
    "        return \"The input is an uppercase character.\"\n",
    "    else:\n",
    "        return \"The input is neither a digit, lowercase, nor uppercase character.\"\n",
    "user_input = input(\"Enter a character: \")\n",
    "if len(user_input) != 1:\n",
    "    print(\"Please enter exactly one character.\")\n",
    "else:\n",
    "    result = check_input_type(user_input)\n",
    "    print(result)"
   ]
  },
  {
   "cell_type": "code",
   "execution_count": 4,
   "id": "e408fdb3",
   "metadata": {},
   "outputs": [
    {
     "name": "stdout",
     "output_type": "stream",
     "text": [
      "Enter a character: f\n",
      "The input is a lowercase character.\n"
     ]
    }
   ],
   "source": [
    "def check_input_type(input_char):\n",
    "    \"\"\"\n",
    "    Check whether the given input is a digit, lowercase character, or uppercase character.\n",
    "\n",
    "    Parameters:\n",
    "    input_char (str): The input character to check.\n",
    "\n",
    "    Returns:\n",
    "    str: A description of the type of the input character.\n",
    "    \"\"\"\n",
    "    if input_char.isdigit():\n",
    "        return \"The input is a digit.\"\n",
    "    elif input_char.islower():\n",
    "        return \"The input is a lowercase character.\"\n",
    "    elif input_char.isupper():\n",
    "        return \"The input is an uppercase character.\"\n",
    "    else:\n",
    "        return \"The input is neither a digit, lowercase, nor uppercase character.\"\n",
    "user_input = input(\"Enter a character: \")\n",
    "if len(user_input) != 1:\n",
    "    print(\"Please enter exactly one character.\")\n",
    "else:\n",
    "    result = check_input_type(user_input)\n",
    "    print(result)"
   ]
  },
  {
   "cell_type": "code",
   "execution_count": 5,
   "id": "0be3b6c0",
   "metadata": {},
   "outputs": [
    {
     "name": "stdout",
     "output_type": "stream",
     "text": [
      "Enter the number of terms to print in the Fibonacci sequence: 6\n",
      "Fibonacci sequence:\n",
      "0 1 1 2 3 5 \n"
     ]
    }
   ],
   "source": [
    "def print_fibonacci(n):\n",
    "    \"\"\"\n",
    "    Print the Fibonacci sequence up to n terms using a while loop.\n",
    "\n",
    "    Parameters:\n",
    "    n (int): Number of terms to print\n",
    "    \"\"\"\n",
    "    a, b = 0, 1\n",
    "    count = 0\n",
    "    while count < n:\n",
    "        print(a, end=' ')\n",
    "        a, b = b, a + b\n",
    "        count += 1\n",
    "\n",
    "    print()  \n",
    "try:\n",
    "    num_terms = int(input(\"Enter the number of terms to print in the Fibonacci sequence: \"))\n",
    "    if num_terms <= 0:\n",
    "        print(\"Please enter a positive integer.\")\n",
    "    else:\n",
    "        print(\"Fibonacci sequence:\")\n",
    "        print_fibonacci(num_terms)\n",
    "except ValueError:\n",
    "    print(\"Please enter a valid integer.\")\n"
   ]
  },
  {
   "cell_type": "code",
   "execution_count": 6,
   "id": "640a393f",
   "metadata": {},
   "outputs": [
    {
     "name": "stdout",
     "output_type": "stream",
     "text": [
      "Enter the starting value of the interval: 7\n",
      "Enter the ending value of the interval: 4\n",
      "Starting value should be less than or equal to ending value.\n"
     ]
    }
   ],
   "source": [
    "def is_prime(num):\n",
    "    \"\"\"\n",
    "    Check if a number is prime.\n",
    "\n",
    "    Parameters:\n",
    "    num (int): The number to check\n",
    "\n",
    "    Returns:\n",
    "    bool: True if the number is prime, False otherwise\n",
    "    \"\"\"\n",
    "    if num <= 1:\n",
    "        return False\n",
    "    if num <= 3:\n",
    "        return True\n",
    "    if num % 2 == 0 or num % 3 == 0:\n",
    "        return False\n",
    "    i = 5\n",
    "    while i * i <= num:\n",
    "        if num % i == 0 or num % (i + 2) == 0:\n",
    "            return False\n",
    "        i += 6\n",
    "    return True\n",
    "\n",
    "def print_primes_in_interval(start, end):\n",
    "    \"\"\"\n",
    "    Print all prime numbers in a given interval [start, end].\n",
    "\n",
    "    Parameters:\n",
    "    start (int): The starting value of the interval\n",
    "    end (int): The ending value of the interval\n",
    "    \"\"\"\n",
    "    for num in range(start, end + 1):\n",
    "        if is_prime(num):\n",
    "            print(num, end=' ')\n",
    "    print()  \n",
    "try:\n",
    "    start_interval = int(input(\"Enter the starting value of the interval: \"))\n",
    "    end_interval = int(input(\"Enter the ending value of the interval: \"))\n",
    "    if start_interval > end_interval:\n",
    "        print(\"Starting value should be less than or equal to ending value.\")\n",
    "    else:\n",
    "        print(f\"Prime numbers in the interval [{start_interval}, {end_interval}]:\")\n",
    "        print_primes_in_interval(start_interval, end_interval)\n",
    "except ValueError:\n",
    "    print(\"Please enter valid integers.\")\n"
   ]
  },
  {
   "cell_type": "code",
   "execution_count": 7,
   "id": "89f93763",
   "metadata": {},
   "outputs": [
    {
     "name": "stdout",
     "output_type": "stream",
     "text": [
      "Enter the starting value of the interval: 4\n",
      "Enter the ending value of the interval: 8\n",
      "Prime numbers in the interval [4, 8]:\n",
      "5 7 \n"
     ]
    }
   ],
   "source": [
    "def is_prime(num):\n",
    "    \"\"\"\n",
    "    Check if a number is prime.\n",
    "\n",
    "    Parameters:\n",
    "    num (int): The number to check\n",
    "\n",
    "    Returns:\n",
    "    bool: True if the number is prime, False otherwise\n",
    "    \"\"\"\n",
    "    if num <= 1:\n",
    "        return False\n",
    "    if num <= 3:\n",
    "        return True\n",
    "    if num % 2 == 0 or num % 3 == 0:\n",
    "        return False\n",
    "    i = 5\n",
    "    while i * i <= num:\n",
    "        if num % i == 0 or num % (i + 2) == 0:\n",
    "            return False\n",
    "        i += 6\n",
    "    return True\n",
    "\n",
    "def print_primes_in_interval(start, end):\n",
    "    \"\"\"\n",
    "    Print all prime numbers in a given interval [start, end].\n",
    "\n",
    "    Parameters:\n",
    "    start (int): The starting value of the interval\n",
    "    end (int): The ending value of the interval\n",
    "    \"\"\"\n",
    "    for num in range(start, end + 1):\n",
    "        if is_prime(num):\n",
    "            print(num, end=' ')\n",
    "    print()  \n",
    "try:\n",
    "    start_interval = int(input(\"Enter the starting value of the interval: \"))\n",
    "    end_interval = int(input(\"Enter the ending value of the interval: \"))\n",
    "    if start_interval > end_interval:\n",
    "        print(\"Starting value should be less than or equal to ending value.\")\n",
    "    else:\n",
    "        print(f\"Prime numbers in the interval [{start_interval}, {end_interval}]:\")\n",
    "        print_primes_in_interval(start_interval, end_interval)\n",
    "except ValueError:\n",
    "    print(\"Please enter valid integers.\")\n"
   ]
  },
  {
   "cell_type": "code",
   "execution_count": 8,
   "id": "1e0b4714",
   "metadata": {},
   "outputs": [
    {
     "name": "stdout",
     "output_type": "stream",
     "text": [
      "Enter the first number: 4\n",
      "Enter the second number: 6\n",
      "The LCM of 4 and 6 is 12\n"
     ]
    }
   ],
   "source": [
    "import math\n",
    "def lcm(a, b):\n",
    "    \"\"\"\n",
    "    Compute the Least Common Multiple (LCM) of two numbers.\n",
    "    Parameters:\n",
    "    a (int): The first number\n",
    "    b (int): The second number\n",
    "\n",
    "    Returns:\n",
    "    int: The LCM of the two numbers\n",
    "    \"\"\"\n",
    "    return abs(a * b) // math.gcd(a, b)\n",
    "try:\n",
    "    num1 = int(input(\"Enter the first number: \"))\n",
    "    num2 = int(input(\"Enter the second number: \"))\n",
    "    result = lcm(num1, num2)\n",
    "    print(f\"The LCM of {num1} and {num2} is {result}\")\n",
    "except ValueError:\n",
    "    print(\"Please enter valid integers.\")"
   ]
  },
  {
   "cell_type": "code",
   "execution_count": null,
   "id": "5c32735b",
   "metadata": {},
   "outputs": [],
   "source": []
  }
 ],
 "metadata": {
  "kernelspec": {
   "display_name": "Python 3 (ipykernel)",
   "language": "python",
   "name": "python3"
  },
  "language_info": {
   "codemirror_mode": {
    "name": "ipython",
    "version": 3
   },
   "file_extension": ".py",
   "mimetype": "text/x-python",
   "name": "python",
   "nbconvert_exporter": "python",
   "pygments_lexer": "ipython3",
   "version": "3.9.12"
  }
 },
 "nbformat": 4,
 "nbformat_minor": 5
}
