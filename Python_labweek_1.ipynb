{
 "cells": [
  {
   "cell_type": "markdown",
   "id": "da8aaf3c",
   "metadata": {},
   "source": [
    "# Introduction to python"
   ]
  },
  {
   "cell_type": "code",
   "execution_count": 2,
   "id": "bc6cd4ee",
   "metadata": {},
   "outputs": [
    {
     "name": "stdout",
     "output_type": "stream",
     "text": [
      "Basic list programs\n"
     ]
    }
   ],
   "source": [
    "print(\"Basic list programs\")"
   ]
  },
  {
   "cell_type": "code",
   "execution_count": 3,
   "id": "e1254921",
   "metadata": {},
   "outputs": [
    {
     "name": "stdout",
     "output_type": "stream",
     "text": [
      "1\n",
      "2\n",
      "3\n",
      "4\n",
      "5\n"
     ]
    }
   ],
   "source": [
    "pl=list()\n",
    "for i in range(5):\n",
    "    pl.append(int(input()))\n",
    "    "
   ]
  },
  {
   "cell_type": "code",
   "execution_count": 4,
   "id": "1b8bd51b",
   "metadata": {},
   "outputs": [
    {
     "name": "stdout",
     "output_type": "stream",
     "text": [
      "[1, 2, 3, 4, 5]\n"
     ]
    }
   ],
   "source": [
    "print(pl)"
   ]
  },
  {
   "cell_type": "code",
   "execution_count": 5,
   "id": "4c5ee17b",
   "metadata": {},
   "outputs": [
    {
     "name": "stdout",
     "output_type": "stream",
     "text": [
      "[1, 2, 3]\n"
     ]
    }
   ],
   "source": [
    "for i in range(2):\n",
    "    pl.pop()\n",
    "print(pl)"
   ]
  },
  {
   "cell_type": "code",
   "execution_count": 8,
   "id": "473b316d",
   "metadata": {},
   "outputs": [
    {
     "name": "stdout",
     "output_type": "stream",
     "text": [
      "3\n",
      "None\n",
      "[2, 3]\n"
     ]
    }
   ],
   "source": [
    "print(len(pl))\n",
    "print(pl.remove(pl[0]))\n",
    "print(pl)"
   ]
  },
  {
   "cell_type": "code",
   "execution_count": 9,
   "id": "29b4decc",
   "metadata": {},
   "outputs": [
    {
     "name": "stdout",
     "output_type": "stream",
     "text": [
      "<class 'list'>\n",
      "{1: 2, 2: 1, 3: 1, 4: 1, 5: 2, 6: 1}\n",
      "True\n",
      "True\n",
      "index is 1 value is 2\n",
      "index is 2 value is 1\n",
      "index is 3 value is 1\n",
      "index is 4 value is 1\n",
      "index is 5 value is 2\n",
      "index is 6 value is 1\n"
     ]
    }
   ],
   "source": [
    "print(type(pl))\n",
    "d=dict()\n",
    "l=[1,1,2,3,4,5,5,6]\n",
    "for i in l:\n",
    "    d[i]=d.get(i,0)+1\n",
    "print(d)\n",
    "print(2 in l)\n",
    "print(10 not in l)\n",
    "#printing the element by the index in dictionary\n",
    "for i in d:\n",
    "    print(\"index is\",i,\"value is\",d[i])"
   ]
  },
  {
   "cell_type": "code",
   "execution_count": 10,
   "id": "513070b3",
   "metadata": {},
   "outputs": [
    {
     "name": "stdout",
     "output_type": "stream",
     "text": [
      "12345\n"
     ]
    }
   ],
   "source": [
    "#type conversion in py\n",
    "a=\"12345\"\n",
    "a=int(a)\n",
    "print(a)"
   ]
  },
  {
   "cell_type": "code",
   "execution_count": 17,
   "id": "fb414399",
   "metadata": {},
   "outputs": [
    {
     "name": "stdout",
     "output_type": "stream",
     "text": [
      "Abhiram\n",
      "Abhiram is eating\n"
     ]
    }
   ],
   "source": [
    "#object oriented programming uaing python\n",
    "class student():\n",
    "    def __init__(self,name):\n",
    "        self.name=name\n",
    "        \n",
    "    def eat(self):\n",
    "        print(self.name,\"is eating\")\n",
    "\n",
    "roll57=student(\"Abhiram\")\n",
    "print(roll57.name)\n",
    "#print(roll57)\n",
    "roll57.eat()"
   ]
  },
  {
   "cell_type": "code",
   "execution_count": 23,
   "id": "9c3d35fb",
   "metadata": {},
   "outputs": [
    {
     "name": "stdout",
     "output_type": "stream",
     "text": [
      "[1, 1, 2, 3, 4, 5, 5, 6]\n",
      "{1, 2, 3, 4, 5, 6}\n",
      "1\n",
      "6\n",
      "27\n",
      "6\n",
      "[6, 5, 5, 4, 3, 2, 1, 1]\n",
      "{1: 2, 2: 1, 3: 1, 4: 1, 5: 2, 6: 1}\n",
      "6\n"
     ]
    }
   ],
   "source": [
    "l.reverse()\n",
    "l.sort()\n",
    "print(l)\n",
    "s=set()\n",
    "for i in l:\n",
    "    s.add(i)\n",
    "print(s)\n",
    "print(min(l))\n",
    "print(max(l))\n",
    "print(sum(l))\n",
    "print(len(s))\n",
    "print(l[::-1])\n",
    "print(d)\n",
    "print(len(d))"
   ]
  },
  {
   "cell_type": "code",
   "execution_count": 29,
   "id": "ea1a4d59",
   "metadata": {},
   "outputs": [
    {
     "name": "stdout",
     "output_type": "stream",
     "text": [
      "{2: 1, 3: 1, 4: 1, 5: 2, 6: 1}\n"
     ]
    }
   ],
   "source": [
    "print(d)"
   ]
  },
  {
   "cell_type": "code",
   "execution_count": 40,
   "id": "f6a53471",
   "metadata": {},
   "outputs": [
    {
     "name": "stdout",
     "output_type": "stream",
     "text": [
      "(1, 1, 2, 3, 4, 5, 5, 6, 7, 5, 3, 1, 2)\n",
      "<class 'tuple'>\n",
      "{1, 2, 3, 4, 5, 6, 7}\n",
      "<class 'set'>\n"
     ]
    }
   ],
   "source": [
    "#tuples and sets\n",
    "s=(1,1,2,3,4,5,5,6,7,5,3,1,2)\n",
    "print(s)\n",
    "print(type(s))\n",
    "s=set(s)\n",
    "print(s)\n",
    "print(type(s))"
   ]
  },
  {
   "cell_type": "code",
   "execution_count": 41,
   "id": "64beee58",
   "metadata": {},
   "outputs": [
    {
     "name": "stdout",
     "output_type": "stream",
     "text": [
      "1234\n"
     ]
    }
   ],
   "source": [
    "x=1234.5678\n",
    "print(\"%.d\"%x)"
   ]
  },
  {
   "cell_type": "code",
   "execution_count": null,
   "id": "dd946543",
   "metadata": {},
   "outputs": [],
   "source": []
  }
 ],
 "metadata": {
  "kernelspec": {
   "display_name": "Python 3 (ipykernel)",
   "language": "python",
   "name": "python3"
  },
  "language_info": {
   "codemirror_mode": {
    "name": "ipython",
    "version": 3
   },
   "file_extension": ".py",
   "mimetype": "text/x-python",
   "name": "python",
   "nbconvert_exporter": "python",
   "pygments_lexer": "ipython3",
   "version": "3.9.12"
  }
 },
 "nbformat": 4,
 "nbformat_minor": 5
}
