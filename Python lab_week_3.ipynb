{
 "cells": [
  {
   "cell_type": "code",
   "execution_count": 2,
   "id": "94e29652",
   "metadata": {},
   "outputs": [
    {
     "name": "stdout",
     "output_type": "stream",
     "text": [
      "5\n"
     ]
    }
   ],
   "source": [
    "thislist = [\"apple\", \"banana\", \"cherry\", \"apple\", \"cherry\"]\n",
    "print(len(thislist))\n"
   ]
  },
  {
   "cell_type": "code",
   "execution_count": 3,
   "id": "d290dd0f",
   "metadata": {},
   "outputs": [],
   "source": [
    "list1 = [\"apple\", \"banana\", \"cherry\"]\n",
    "list2 = [1, 5, 7, 9, 3]\n",
    "list3 = [True, False, False]"
   ]
  },
  {
   "cell_type": "code",
   "execution_count": 4,
   "id": "d9ac5ff7",
   "metadata": {},
   "outputs": [
    {
     "name": "stdout",
     "output_type": "stream",
     "text": [
      "<class 'list'>\n"
     ]
    }
   ],
   "source": [
    "mylist = [\"apple\", \"banana\", \"cherry\"]\n",
    "print(type(mylist))"
   ]
  },
  {
   "cell_type": "code",
   "execution_count": 5,
   "id": "4bb1d447",
   "metadata": {},
   "outputs": [
    {
     "name": "stdout",
     "output_type": "stream",
     "text": [
      "Numpy array from list:\n",
      "[1 2 3 4 5]\n",
      "\n",
      "Numpy array from tuple:\n",
      "[ 6  7  8  9 10]\n"
     ]
    }
   ],
   "source": [
    "import numpy as np\n",
    "my_list = [1, 2, 3, 4, 5]\n",
    "my_tuple = (6, 7, 8, 9, 10)\n",
    "list_array = np.array(my_list)\n",
    "print(\"Numpy array from list:\")\n",
    "print(list_array)\n",
    "tuple_array = np.array(my_tuple)\n",
    "print(\"\\nNumpy array from tuple:\")\n",
    "print(tuple_array)"
   ]
  },
  {
   "cell_type": "code",
   "execution_count": 6,
   "id": "6131dfc9",
   "metadata": {},
   "outputs": [
    {
     "name": "stdout",
     "output_type": "stream",
     "text": [
      "Common values between the two arrays:\n",
      "[4 5]\n"
     ]
    }
   ],
   "source": [
    "import numpy as np\n",
    "array1 = np.array([1, 2, 3, 4, 5])\n",
    "array2 = np.array([4, 5, 6, 7, 8])\n",
    "set1 = set(array1)\n",
    "set2 = set(array2)\n",
    "common_values = set1.intersection(set2)\n",
    "common_array = np.array(list(common_values))\n",
    "print(\"Common values between the two arrays:\")\n",
    "print(common_array)"
   ]
  },
  {
   "cell_type": "code",
   "execution_count": 7,
   "id": "07496c89",
   "metadata": {},
   "outputs": [],
   "source": [
    "def gcd(a, b):\n",
    "    \"\"\"\n",
    "    Compute the Greatest Common Divisor (GCD) of two integers using the Euclidean algorithm.\n",
    "\n",
    "    Parameters:\n",
    "    a (int): First integer\n",
    "    b (int): Second integer\n",
    "\n",
    "    Returns:\n",
    "    int: The GCD of a and b\n",
    "    \"\"\"\n",
    "    a, b = abs(a), abs(b)\n",
    "\n",
    "    while b != 0:\n",
    "        a, b = b, a % b\n",
    "\n",
    "    return a"
   ]
  },
  {
   "cell_type": "code",
   "execution_count": 8,
   "id": "414e466b",
   "metadata": {},
   "outputs": [
    {
     "data": {
      "text/plain": [
       "45"
      ]
     },
     "execution_count": 8,
     "metadata": {},
     "output_type": "execute_result"
    }
   ],
   "source": [
    "23\n",
    "45"
   ]
  },
  {
   "cell_type": "code",
   "execution_count": 9,
   "id": "ed2e5732",
   "metadata": {},
   "outputs": [
    {
     "ename": "IndentationError",
     "evalue": "unexpected indent (202276225.py, line 12)",
     "output_type": "error",
     "traceback": [
      "\u001b[1;36m  Input \u001b[1;32mIn [9]\u001b[1;36m\u001b[0m\n\u001b[1;33m    import string\u001b[0m\n\u001b[1;37m    ^\u001b[0m\n\u001b[1;31mIndentationError\u001b[0m\u001b[1;31m:\u001b[0m unexpected indent\n"
     ]
    }
   ],
   "source": [
    "def palindrome(s):\n",
    "    \"\"\"\n",
    "    Check if the given string is a palindrome.\n",
    "\n",
    "    Parameters:\n",
    "    s (str): The string to check\n",
    "\n",
    "    Returns:\n",
    "    bool: True if the string is a palindrome, False otherwise\n",
    "    \"\"\"\n",
    "    s = s.lower()\n",
    "        import string\n",
    "    s = ''.join(c for c in s if c.isalnum())\n",
    "    return s == s[::-1]"
   ]
  },
  {
   "cell_type": "code",
   "execution_count": 10,
   "id": "ddf09349",
   "metadata": {},
   "outputs": [
    {
     "data": {
      "text/plain": [
       "67"
      ]
     },
     "execution_count": 10,
     "metadata": {},
     "output_type": "execute_result"
    }
   ],
   "source": [
    "23\n",
    "67\n"
   ]
  },
  {
   "cell_type": "code",
   "execution_count": 11,
   "id": "422ee270",
   "metadata": {},
   "outputs": [
    {
     "ename": "SyntaxError",
     "evalue": "invalid syntax (4020253126.py, line 12)",
     "output_type": "error",
     "traceback": [
      "\u001b[1;36m  Input \u001b[1;32mIn [11]\u001b[1;36m\u001b[0m\n\u001b[1;33m    \"\"\"    if not numbers:\u001b[0m\n\u001b[1;37m                         ^\u001b[0m\n\u001b[1;31mSyntaxError\u001b[0m\u001b[1;31m:\u001b[0m invalid syntax\n"
     ]
    }
   ],
   "source": [
    "import statistics\n",
    "\n",
    "def calculate_statistics(numbers):\n",
    "    \"\"\"\n",
    "    Calculate mean, median, and mode of a list of numbers.\n",
    "\n",
    "    Parameters:\n",
    "    numbers (list of int/float): List of numbers to calculate statistics for.\n",
    "\n",
    "    Returns:\n",
    "    tuple: A tuple containing mean, median, and mode.\n",
    "    \"\"\"    if not numbers:\n",
    "        raise ValueError(\"The list is empty. Cannot calculate statistics.\")\n",
    "    mean = statistics.mean(numbers)\n",
    "    median = statistics.median(numbers)\n",
    "    \n",
    "    try:\n",
    "        mode = statistics.mode(numbers)\n",
    "    except statistics.StatisticsError:\n",
    "        mode = \"No unique mode\"\n",
    "    \n",
    "    return mean, median, mode\n",
    "numbers = [1, 2, 3, 4, 4, 5, 6, 7, 8, 9]\n",
    "\n",
    "mean, median, mode = calculate_statistics(numbers)\n",
    "\n",
    "print(\"Mean:\", mean)\n",
    "print(\"Median:\", median)\n",
    "print(\"Mode:\", mode)\n"
   ]
  },
  {
   "cell_type": "code",
   "execution_count": 12,
   "id": "340fad40",
   "metadata": {},
   "outputs": [
    {
     "name": "stdout",
     "output_type": "stream",
     "text": [
      "Tuple: (1, 2, 3, 4, 5)\n",
      "First element: 1\n",
      "Last element: 5\n",
      "\n",
      "Mixed Tuple: (1, 'hello', 3.14, True)\n",
      "Second element: hello\n",
      "Third element: 3.14\n",
      "\n",
      "Single element tuple: (42,)\n",
      "\n",
      "Empty Tuple: ()\n",
      "\n",
      "Packed Tuple: (1, 2, 3, 4)\n",
      "\n",
      "Unpacked variables:\n",
      "a = 1\n",
      "b = 2\n",
      "c = 3\n",
      "d = 4\n"
     ]
    }
   ],
   "source": [
    "my_tuple = (1, 2, 3, 4, 5)\n",
    "print(\"Tuple:\", my_tuple)\n",
    "print(\"First element:\", my_tuple[0])\n",
    "print(\"Last element:\", my_tuple[-1])\n",
    "mixed_tuple = (1, \"hello\", 3.14, True)\n",
    "print(\"\\nMixed Tuple:\", mixed_tuple)\n",
    "print(\"Second element:\", mixed_tuple[1])\n",
    "print(\"Third element:\", mixed_tuple[2])\n",
    "single_element_tuple = (42,)\n",
    "print(\"\\nSingle element tuple:\", single_element_tuple)\n",
    "empty_tuple = ()\n",
    "print(\"\\nEmpty Tuple:\", empty_tuple)\n",
    "packed_tuple = 1, 2, 3, 4\n",
    "print(\"\\nPacked Tuple:\", packed_tuple)\n",
    "a, b, c, d = packed_tuple\n",
    "print(\"\\nUnpacked variables:\")\n",
    "print(\"a =\", a)\n",
    "print(\"b =\", b)\n",
    "print(\"c =\", c)\n",
    "print(\"d =\", d)"
   ]
  },
  {
   "cell_type": "code",
   "execution_count": 13,
   "id": "783e5d30",
   "metadata": {},
   "outputs": [
    {
     "name": "stdout",
     "output_type": "stream",
     "text": [
      "Tuple with different data types:\n",
      "Mixed Tuple: (42, 'Hello, world!', 3.14, True, None, [1, 2, 3], {'key': 'value'})\n",
      "\n",
      "Accessing individual elements:\n",
      "Integer element: 42\n",
      "String element: Hello, world!\n",
      "Float element: 3.14\n",
      "Boolean element: True\n",
      "NoneType element: None\n",
      "List element: [1, 2, 3]\n",
      "Dictionary element: {'key': 'value'}\n",
      "\n",
      "Accessing nested elements:\n",
      "First item in the list: 1\n",
      "Value associated with 'key' in the dictionary: value\n"
     ]
    }
   ],
   "source": [
    "mixed_tuple = (42, \"Hello, world!\", 3.14, True, None, [1, 2, 3], {'key': 'value'})\n",
    "print(\"Tuple with different data types:\")\n",
    "print(\"Mixed Tuple:\", mixed_tuple)\n",
    "print(\"\\nAccessing individual elements:\")\n",
    "print(\"Integer element:\", mixed_tuple[0])           \n",
    "print(\"String element:\", mixed_tuple[1])            \n",
    "print(\"Float element:\", mixed_tuple[2])             \n",
    "print(\"Boolean element:\", mixed_tuple[3])          \n",
    "print(\"NoneType element:\", mixed_tuple[4])         \n",
    "print(\"List element:\", mixed_tuple[5])              \n",
    "print(\"Dictionary element:\", mixed_tuple[6])        \n",
    "print(\"\\nAccessing nested elements:\")\n",
    "print(\"First item in the list:\", mixed_tuple[5][0])             \n",
    "print(\"Value associated with 'key' in the dictionary:\", mixed_tuple[6]['key']) "
   ]
  },
  {
   "cell_type": "code",
   "execution_count": 14,
   "id": "26f2ab93",
   "metadata": {},
   "outputs": [
    {
     "name": "stdout",
     "output_type": "stream",
     "text": [
      "Tuple: (10, 'hello', 3.14, True, [1, 2, 3])\n",
      "\n",
      "Checking for elements in the tuple:\n",
      "Is 10 in the tuple? True\n",
      "Is 'hello' in the tuple? True\n",
      "Is 3.14 in the tuple? True\n",
      "Is False in the tuple? False\n",
      "Is [1, 2, 3] in the tuple? True\n",
      "Is 42 in the tuple? False\n",
      "Is 'world' in the tuple? False\n"
     ]
    }
   ],
   "source": [
    "def element_exists(tpl, element):\n",
    "    \"\"\"\n",
    "    Check whether an element exists within a tuple.\n",
    "\n",
    "    Parameters:\n",
    "    tpl (tuple): The tuple to search\n",
    "    element (any): The element to check for\n",
    "\n",
    "    Returns:\n",
    "    bool: True if the element is in the tuple, False otherwise\n",
    "    \"\"\"\n",
    "    return element in tpl\n",
    "my_tuple = (10, 'hello', 3.14, True, [1, 2, 3])\n",
    "print(\"Tuple:\", my_tuple)\n",
    "print(\"\\nChecking for elements in the tuple:\")\n",
    "print(\"Is 10 in the tuple?\", element_exists(my_tuple, 10))\n",
    "print(\"Is 'hello' in the tuple?\", element_exists(my_tuple, 'hello'))\n",
    "print(\"Is 3.14 in the tuple?\", element_exists(my_tuple, 3.14))\n",
    "print(\"Is False in the tuple?\", element_exists(my_tuple, False))\n",
    "print(\"Is [1, 2, 3] in the tuple?\", element_exists(my_tuple, [1, 2, 3]))\n",
    "print(\"Is 42 in the tuple?\", element_exists(my_tuple, 42))\n",
    "print(\"Is 'world' in the tuple?\", element_exists(my_tuple, 'world'))"
   ]
  },
  {
   "cell_type": "code",
   "execution_count": null,
   "id": "0ee7d1a6",
   "metadata": {},
   "outputs": [],
   "source": []
  }
 ],
 "metadata": {
  "kernelspec": {
   "display_name": "Python 3 (ipykernel)",
   "language": "python",
   "name": "python3"
  },
  "language_info": {
   "codemirror_mode": {
    "name": "ipython",
    "version": 3
   },
   "file_extension": ".py",
   "mimetype": "text/x-python",
   "name": "python",
   "nbconvert_exporter": "python",
   "pygments_lexer": "ipython3",
   "version": "3.9.12"
  }
 },
 "nbformat": 4,
 "nbformat_minor": 5
}
